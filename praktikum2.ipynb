{
  "nbformat": 4,
  "nbformat_minor": 0,
  "metadata": {
    "colab": {
      "provenance": []
    },
    "kernelspec": {
      "name": "python3",
      "display_name": "Python 3"
    },
    "language_info": {
      "name": "python"
    }
  },
  "cells": [
    {
      "cell_type": "code",
      "execution_count": 4,
      "metadata": {
        "colab": {
          "base_uri": "https://localhost:8080/"
        },
        "id": "evxXJqR9EJpR",
        "outputId": "b9ccc213-472c-4220-b3e3-62e8ac6180da"
      },
      "outputs": [
        {
          "output_type": "stream",
          "name": "stdout",
          "text": [
            "True\n",
            "False\n"
          ]
        }
      ],
      "source": [
        "# Pendalaman string\n",
        "cek = 'ak'\n",
        "kata = 'makan'\n",
        "kata2 = 'begadang'\n",
        "\n",
        "# Seperti operasi komparasi\n",
        "print(cek in kata)\n",
        "print(cek in kata2)"
      ]
    },
    {
      "cell_type": "code",
      "source": [
        "nama = 'Komarudin'\n",
        "print(nama[2]) # bisa diakses indek mulai 0\n",
        "print(nama[3:6]) # 3 sampai sebelum 6\n",
        "print(nama[3:]) # 3 sampai selesai\n",
        "print(nama[:6]) # dari awal sampai sebelum 6"
      ],
      "metadata": {
        "colab": {
          "base_uri": "https://localhost:8080/"
        },
        "id": "lxClwbe7GBt2",
        "outputId": "bdc8d2f6-7ff6-4622-daae-ab0d02ee17a0"
      },
      "execution_count": 11,
      "outputs": [
        {
          "output_type": "stream",
          "name": "stdout",
          "text": [
            "m\n",
            "aru\n",
            "arudin\n",
            "Komaru\n"
          ]
        }
      ]
    },
    {
      "cell_type": "code",
      "source": [
        "# not / negasi (boolean)\n",
        "benar = True\n",
        "print(benar)\n",
        "print(not benar)\n",
        "\n",
        "a = 7\n",
        "b = 8\n",
        "print(not (a > b))\n"
      ],
      "metadata": {
        "colab": {
          "base_uri": "https://localhost:8080/"
        },
        "id": "87iGuMDzHjrX",
        "outputId": "dc892266-f1b8-4b74-80da-4b70f1506ae4"
      },
      "execution_count": 14,
      "outputs": [
        {
          "output_type": "stream",
          "name": "stdout",
          "text": [
            "True\n",
            "False\n",
            "True\n",
            "True\n"
          ]
        }
      ]
    },
    {
      "cell_type": "code",
      "source": [
        "# != tidak sama dengan\n",
        "# print(5 != 7)\n",
        "\n",
        "a = input('Masukan angka a: ') # membuat input\n",
        "if a != 6:\n",
        "    print('a tidak sama dengan 6')\n",
        "else:\n",
        "    print('a sama dengan 6')"
      ],
      "metadata": {
        "colab": {
          "base_uri": "https://localhost:8080/"
        },
        "id": "IP5ItCRjIiKC",
        "outputId": "397dc281-8999-4ca9-bb02-d53f4ce18c25"
      },
      "execution_count": 21,
      "outputs": [
        {
          "output_type": "stream",
          "name": "stdout",
          "text": [
            "Masukan angka a: 1\n",
            "a tidak sama dengan 6\n"
          ]
        }
      ]
    },
    {
      "cell_type": "code",
      "source": [
        "# \\t untuk tab, \\n untuk enter\n",
        "nama = input('Masukan nama\\t: ')\n",
        "nim = input('Masukan nim\\t: ')\n",
        "print(f'Nama saya adalah {nama}\\ndengan NIM {nim}')"
      ],
      "metadata": {
        "colab": {
          "base_uri": "https://localhost:8080/"
        },
        "id": "vodk6-b9KR1G",
        "outputId": "b91826f4-b251-4495-86bf-fc8ee16e7e40"
      },
      "execution_count": 24,
      "outputs": [
        {
          "output_type": "stream",
          "name": "stdout",
          "text": [
            "Masukan nama\t: Komar\n",
            "Masukan nim\t: 2200\n",
            "Nama saya adalah Komar\n",
            "dengan NIM 2200\n"
          ]
        }
      ]
    },
    {
      "cell_type": "code",
      "source": [
        "# Perulangan / Looping\n",
        "# Cara 1\n",
        "# i hanya sebuah variabel jadi bisa diganti, saya tidak mau banyak bicara\n",
        "for i in range(5): # i mewakili 0 sampai sebelum 5\n",
        "    print(f'angka: {i}')"
      ],
      "metadata": {
        "colab": {
          "base_uri": "https://localhost:8080/"
        },
        "id": "QNHDtcqrM88c",
        "outputId": "7c0d065d-265d-4a3e-9840-4648692d44b6"
      },
      "execution_count": 26,
      "outputs": [
        {
          "output_type": "stream",
          "name": "stdout",
          "text": [
            "angka: 0\n",
            "angka: 1\n",
            "angka: 2\n",
            "angka: 3\n",
            "angka: 4\n"
          ]
        }
      ]
    },
    {
      "cell_type": "code",
      "source": [
        "# Cara 2\n",
        "for i in range(3,10): # tiga sampai sebelum 10\n",
        "    print(i)"
      ],
      "metadata": {
        "colab": {
          "base_uri": "https://localhost:8080/"
        },
        "id": "W57HiF0QOAeJ",
        "outputId": "541cd95e-fd38-4825-d9fb-0411bf57837c"
      },
      "execution_count": 27,
      "outputs": [
        {
          "output_type": "stream",
          "name": "stdout",
          "text": [
            "3\n",
            "4\n",
            "5\n",
            "6\n",
            "7\n",
            "8\n",
            "9\n"
          ]
        }
      ]
    },
    {
      "cell_type": "code",
      "source": [
        "# Cara 3\n",
        "for i in range(2,20,3): #(start, stop, step)\n",
        "    print(i)"
      ],
      "metadata": {
        "colab": {
          "base_uri": "https://localhost:8080/"
        },
        "id": "PeZEqRiGOW6q",
        "outputId": "1b771dbd-0788-4938-a2e7-f23b8ed6edf3"
      },
      "execution_count": 29,
      "outputs": [
        {
          "output_type": "stream",
          "name": "stdout",
          "text": [
            "2\n",
            "5\n",
            "8\n",
            "11\n",
            "14\n",
            "17\n"
          ]
        }
      ]
    },
    {
      "cell_type": "code",
      "source": [
        "# Cara 4\n",
        "daftarNama = ['Ucup', 'Otong', 'Komar', 'Udin'] # list akan dipelajari mendalam di\n",
        "for nama in daftarNama:\n",
        "    print(nama)"
      ],
      "metadata": {
        "colab": {
          "base_uri": "https://localhost:8080/"
        },
        "id": "i3O7K8s-PVts",
        "outputId": "a638629d-3c1c-4fcf-df4f-86a59a3e2eaf"
      },
      "execution_count": 31,
      "outputs": [
        {
          "output_type": "stream",
          "name": "stdout",
          "text": [
            "Ucup\n",
            "Otong\n",
            "Komar\n",
            "Udin\n"
          ]
        }
      ]
    },
    {
      "cell_type": "code",
      "source": [
        "print(daftarNama)"
      ],
      "metadata": {
        "colab": {
          "base_uri": "https://localhost:8080/"
        },
        "id": "uNYq2bOmQA2G",
        "outputId": "17632022-25e7-414e-a3f3-67dd2626584e"
      },
      "execution_count": 32,
      "outputs": [
        {
          "output_type": "stream",
          "name": "stdout",
          "text": [
            "['Ucup', 'Otong', 'Komar', 'Udin']\n"
          ]
        }
      ]
    },
    {
      "cell_type": "code",
      "source": [
        "# Belajar implementasi looping\n",
        "daftarNama = ['Agus', 'Budi', 'Asep', 'Suryo', 'Aliando']\n",
        "\n",
        "for nama in daftarNama:\n",
        "    if 'u' in nama:\n",
        "        print(nama)"
      ],
      "metadata": {
        "colab": {
          "base_uri": "https://localhost:8080/"
        },
        "id": "SVFWUpI8QZk6",
        "outputId": "ba285e66-17c4-47cd-e34e-14dcaa632367"
      },
      "execution_count": 34,
      "outputs": [
        {
          "output_type": "stream",
          "name": "stdout",
          "text": [
            "Agus\n",
            "Budi\n",
            "Suryo\n"
          ]
        }
      ]
    },
    {
      "cell_type": "code",
      "source": [
        "# Implementasi 2\n",
        "daftarNama = ['Agus', 'Budi', 'Asep', 'Suryo', 'Aliando']\n",
        "daftarNilai = [80, 70, 77, 55, 100]\n",
        "i = 0 # nilai default\n",
        "for nilai in daftarNilai:\n",
        "    if nilai < 78:\n",
        "        print(f'{daftarNama[i]} remidi, karena nilai {nilai}')\n",
        "    i += 1 # increment 1"
      ],
      "metadata": {
        "colab": {
          "base_uri": "https://localhost:8080/"
        },
        "id": "-F2qd4b0R_z4",
        "outputId": "49e04c31-65d9-4233-80c5-1967faf6a7b0"
      },
      "execution_count": 35,
      "outputs": [
        {
          "output_type": "stream",
          "name": "stdout",
          "text": [
            "Budi remidi, karena nilai 70\n",
            "Asep remidi, karena nilai 77\n",
            "Suryo remidi, karena nilai 55\n"
          ]
        }
      ]
    },
    {
      "cell_type": "code",
      "source": [
        "daftarNilai = [80, 70, 77, 55, 100]\n",
        "print(daftarNilai[2])\n",
        "print(daftarNilai[:3]) # dari awal sampai sebelum 3\n",
        "print(daftarNilai[3:]) # dari 3 sampai akhir\n",
        "print(daftarNilai[-1]) # ngitung dari akhir"
      ],
      "metadata": {
        "colab": {
          "base_uri": "https://localhost:8080/"
        },
        "id": "sEC5a6_fTHTe",
        "outputId": "01e70a43-78e1-4838-dab3-d5f669b60b87"
      },
      "execution_count": 40,
      "outputs": [
        {
          "output_type": "stream",
          "name": "stdout",
          "text": [
            "77\n",
            "[80, 70, 77]\n",
            "[55, 100]\n",
            "100\n"
          ]
        }
      ]
    }
  ]
}