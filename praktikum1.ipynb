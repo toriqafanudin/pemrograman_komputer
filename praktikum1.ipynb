{
  "nbformat": 4,
  "nbformat_minor": 0,
  "metadata": {
    "colab": {
      "provenance": []
    },
    "kernelspec": {
      "name": "python3",
      "display_name": "Python 3"
    },
    "language_info": {
      "name": "python"
    }
  },
  "cells": [
    {
      "cell_type": "code",
      "execution_count": 1,
      "metadata": {
        "colab": {
          "base_uri": "https://localhost:8080/"
        },
        "id": "mYbKUGDU-Sp0",
        "outputId": "98267d8f-071b-468c-d21a-2723e34adc36"
      },
      "outputs": [
        {
          "output_type": "stream",
          "name": "stdout",
          "text": [
            "Hello World\n"
          ]
        }
      ],
      "source": [
        "print('Hello World')"
      ]
    },
    {
      "cell_type": "code",
      "source": [
        "x = \"Halloo Semuaa\"\n",
        "print(x)"
      ],
      "metadata": {
        "colab": {
          "base_uri": "https://localhost:8080/"
        },
        "id": "bbvfC2MdAX8H",
        "outputId": "2acca4e3-fa78-4655-d39e-486ea8fc4f78"
      },
      "execution_count": 4,
      "outputs": [
        {
          "output_type": "stream",
          "name": "stdout",
          "text": [
            "Halloo Semuaa\n"
          ]
        }
      ]
    },
    {
      "cell_type": "code",
      "source": [
        "a = 10 # integer: bilangan bulat\n",
        "b = 19.5 # float: bilangan decimal\n",
        "c = True # boolean: True, False\n",
        "d = 'Thoriq Afanudin' # string\n",
        "print(a)\n",
        "print(b)\n",
        "print(c)\n",
        "print(d)"
      ],
      "metadata": {
        "colab": {
          "base_uri": "https://localhost:8080/"
        },
        "id": "kY9PCmS7BE8k",
        "outputId": "764387ab-9e6d-4138-ed51-462a4a8f9794"
      },
      "execution_count": 8,
      "outputs": [
        {
          "output_type": "stream",
          "name": "stdout",
          "text": [
            "10\n",
            "19.5\n",
            "True\n",
            "Thoriq Afanudin\n"
          ]
        }
      ]
    },
    {
      "cell_type": "code",
      "source": [
        "# Menggabungkan integer dan string\n",
        "angka = 80\n",
        "print('Nilai ulangan ', angka) # int dan string\n",
        "print(f'Nilai ulangan {angka}')\n",
        "\n",
        "nama = 'Lukman'\n",
        "print('nama saya ' + nama) # string dan string"
      ],
      "metadata": {
        "colab": {
          "base_uri": "https://localhost:8080/"
        },
        "id": "BrccNyrlC3sz",
        "outputId": "46b80095-f16b-4fe6-c13e-f7acfbedf967"
      },
      "execution_count": 13,
      "outputs": [
        {
          "output_type": "stream",
          "name": "stdout",
          "text": [
            "Nilai ulangan  80\n",
            "Nilai ulangan 80\n",
            "nama saya Lukman\n"
          ]
        }
      ]
    },
    {
      "cell_type": "code",
      "source": [
        "# Operasi Komparasi\n",
        "a = 8\n",
        "b = 5\n",
        "c = 8\n",
        "\n",
        "print(f'{a} > {b} = {a > b}')\n",
        "print(f'{a} < {b} = {a < b}')\n",
        "print(f'{a} <= {b} = {a <= b}')\n",
        "print(f'{a} >= {b} = {a >= b}')\n",
        "print(f'{a} == {c} = {a == c}')"
      ],
      "metadata": {
        "colab": {
          "base_uri": "https://localhost:8080/"
        },
        "id": "SifVG_IdEn9V",
        "outputId": "80a55296-b3e6-4ccf-dbe3-6d3b8008a17b"
      },
      "execution_count": 21,
      "outputs": [
        {
          "output_type": "stream",
          "name": "stdout",
          "text": [
            "8 > 5 = True\n",
            "8 < 5 = False\n",
            "8 <= 5 = False\n",
            "8 >= 5 = True\n",
            "8 == 8 = True\n"
          ]
        }
      ]
    },
    {
      "cell_type": "code",
      "source": [
        "a = 5\n",
        "b = 10\n",
        "c = 2\n",
        "hasil1 = a + b\n",
        "print(hasil1)\n",
        "hasil2 = a - b\n",
        "print(hasil2)\n",
        "hasil3 = a * b\n",
        "print(hasil3)\n",
        "hasil4 = a / b\n",
        "print(hasil4)\n",
        "hasil5 = a % c # Modulo\n",
        "print(hasil5)\n",
        "hasil6 = c ** a # Pangkat\n",
        "print(hasil6)"
      ],
      "metadata": {
        "colab": {
          "base_uri": "https://localhost:8080/"
        },
        "id": "VJ3DvcJhHfNy",
        "outputId": "f4619737-de09-4097-e0aa-814483f63d6d"
      },
      "execution_count": 23,
      "outputs": [
        {
          "output_type": "stream",
          "name": "stdout",
          "text": [
            "15\n",
            "-5\n",
            "50\n",
            "0.5\n",
            "1\n",
            "32\n"
          ]
        }
      ]
    },
    {
      "cell_type": "code",
      "source": [
        "# Logika Boolean\n",
        "a = 9\n",
        "b = 10\n",
        "print(a > b or b > a) # False or True = True\n",
        "print(a < b or b < a) # True or False = True\n",
        "print(a < b or b > a) # True or True = True\n",
        "print(a > b or b < a) # False or False = False\n",
        "\n",
        "print(a > b and b > a)\n",
        "print(a < b and b < a)\n",
        "print(a < b and b > a)\n",
        "print(a > b and b < a)\n",
        "# 082122214133 Thoriq\n",
        "# Variabel sudah dalam kondisi boolean\n",
        "benar = True\n",
        "salah = False\n",
        "print(benar or salah)"
      ],
      "metadata": {
        "colab": {
          "base_uri": "https://localhost:8080/"
        },
        "id": "EwVcu_ZnJUN0",
        "outputId": "c4301fd6-9e74-4132-f063-ef66ba20c929"
      },
      "execution_count": 29,
      "outputs": [
        {
          "output_type": "stream",
          "name": "stdout",
          "text": [
            "True\n",
            "True\n",
            "True\n",
            "False\n",
            "False\n",
            "False\n",
            "True\n",
            "False\n",
            "True\n"
          ]
        }
      ]
    },
    {
      "cell_type": "code",
      "source": [
        "# Percabangan if, else, elif\n",
        "x = 15\n",
        "y = 10\n",
        "\n",
        "if x > y:\n",
        "    print(f'{x} lebih dari {y}')\n",
        "    print('maka benar')\n",
        "\n",
        "print('Program selesai')"
      ],
      "metadata": {
        "colab": {
          "base_uri": "https://localhost:8080/"
        },
        "id": "3ANvpn_6Mjgf",
        "outputId": "0ffe36b8-8730-446a-99c9-bb0736cd0fc3"
      },
      "execution_count": 31,
      "outputs": [
        {
          "output_type": "stream",
          "name": "stdout",
          "text": [
            "Program selesai\n"
          ]
        }
      ]
    },
    {
      "cell_type": "code",
      "source": [
        "nilai = 50\n",
        "\n",
        "if nilai > 80: # False\n",
        "    print('Nilai A')\n",
        "elif nilai > 70: # True\n",
        "    print('Nilai B')\n",
        "elif nilai > 60:\n",
        "    print('Nilai C')\n",
        "else:\n",
        "    print('Anda Remidi')\n",
        "\n",
        "print('Program selesai')"
      ],
      "metadata": {
        "colab": {
          "base_uri": "https://localhost:8080/"
        },
        "id": "95rR3gvbOGL7",
        "outputId": "db1e7565-73d3-4cfc-81ea-9e1c20b6164a"
      },
      "execution_count": 35,
      "outputs": [
        {
          "output_type": "stream",
          "name": "stdout",
          "text": [
            "Anda Remidi\n",
            "Program selesai\n"
          ]
        }
      ]
    }
  ]
}